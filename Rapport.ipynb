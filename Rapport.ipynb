{
 "cells": [
  {
   "cell_type": "markdown",
   "metadata": {},
   "source": [
    "# Rapport : Projet Kolkata\n",
    "_Bruce Rose_\n",
    "\n",
    "Ce rapport rend compte de ma réalisation du projet Kolkata.\n",
    "\n"
   ]
  },
  {
   "cell_type": "markdown",
   "metadata": {},
   "source": [
    "## Utilisation\n",
    "\n",
    "Pour faciliter l'utilisation de mon implémentation du projet, un fichier `Entrance.py` a été écrit.\n",
    "Lancez\n",
    "\n",
    "> `python Entrance.py`\n",
    "\n",
    "dans un terminal (version utilisée de python : 3.8.2) et laissez-vous guider.\n",
    "\n",
    "Il vous sera alors possible de personnaliser une partie de Kolkata :\n",
    "* Nombre d'itérations *m*\n",
    "* Vitesse de jeu\n",
    "* Chargement d'une carte spécifique\n",
    "* Nombre de joueurs *n*\n",
    "* Nombre de restaurants (ou tables) *k*\n",
    "* Jeu par équipe\n",
    "* Nombre d'équipes\n",
    "* Nombre de joueurs personnalisable par équipe\n",
    "* Stratégie par équipe"
   ]
  },
  {
   "cell_type": "markdown",
   "metadata": {},
   "source": [
    "## Stratégies\n",
    "\n",
    "En plus des stratégies de base *aléatoire* et *tétue*, d'autres stratégies ont été imaginées. Elles sont toutes trouvables dans le fichier `Strategy.py`."
   ]
  },
  {
   "cell_type": "markdown",
   "metadata": {},
   "source": [
    "### Mean regression : retour à la normale\n",
    "\n",
    "Cette stratégie se base sur le principe de retour à la normale. Si un restaurant est très fréquenté (plus que la moyenne) pour *i* itérations de suite, il y a plus de chance pour qu'il soit bien moins fréquenté l'itération suivante *i+1*, d'autant plus que *i* est grand. Cette stratégie fait l'hypothèse que les taux de fréquentation des restaurants sont répartis aléatoirement, ou équivalent* (ce qui n'est pas toujours le cas). On choisit donc toujours le restaurant dont la suite de haute fréquentation est la plus grande.\n",
    "\n",
    "*Nous verrons que la stratégie fonctionne bien contre des stratégies non-aléatoires."
   ]
  },
  {
   "cell_type": "markdown",
   "metadata": {},
   "source": [
    "### Wrong Stochastic Choice : le mal-entendu\n",
    "\n",
    "Cette stratégie découle de l'interpretation erronée de l'explication suivante :\n",
    "\n",
    "> (1)   \"*A leading stochastic strategy, with utilization ~0.79, gives each customer a probability p of choosing the same restaurant as yesterday (p varying inversely with the number of players who chose that restaurant yesterday), while choosing among other restaurants with uniform probability. This is a better result than deterministic algorithms or simple random choice (noise trader), with utilization fraction 1 - 1/e ≈ 0.63.*\"\n",
    "\n",
    "extraite de la page wikipédia anglophone du *El Farol Bar Problem* (consultée le 05/05/2020, 16:54).\n",
    "\n",
    "Pour faire son choix, cette stratégie passe en revue chaque restaurant, et calcule sa probabilité de sélection *p* comme suit :\n",
    "\n",
    "> *p* = 1/(*c* + 1)\n",
    "\n",
    "Où *c* est le nombre de clients qui sont allés à ce restaurant au dernier tour. Ainsi, moins il y avait de clients à un restaurant le tour d'avant, le plus de chance ce restaurant a d'être choisi par cette stratégie."
   ]
  },
  {
   "cell_type": "markdown",
   "metadata": {},
   "source": [
    "### Stochastic Choice\n",
    "\n",
    "Cette stratégie implémente la citation (1) plus haute. Il s'agit de calculer une probabilité *p* de changer de restaurant d'après cette formule :\n",
    "\n",
    "> *p* = 1/(*c* + 1)\n",
    "\n",
    "où *c* est le nombre de clients qui ont fréquenté le dernier restaurant choisi au dernier tour. Dans le cas où on décide de changer de restaurant, notre choix se fait aléatoirement parmi tous les autres restaurants.\n",
    "\n"
   ]
  },
  {
   "cell_type": "markdown",
   "metadata": {},
   "source": [
    "## Expérimentations"
   ]
  },
  {
   "cell_type": "markdown",
   "metadata": {},
   "source": [
    "### Tous les mêmes\n",
    "\n",
    "#### Random\n",
    "\n",
    "100 rounds. 2 joueurs. 2 restaurants : 74,5 %\n",
    "\n",
    "100 rounds. 10 joueurs. 2 restaurants : 20,0 %\n",
    "\n",
    "100 rounds. 20 j. 2 r : 10,0 %\n",
    "___\n",
    "100 ro. 2 j. 10 re : 94,5 %\n",
    "\n",
    "100 ro. 10 j. 10 re : 63,6 %\n",
    "\n",
    "100 ro. 20 j. 10 re : 43,75 %\n",
    "___\n",
    "100 ro. 2 j. 20 re : 97,5 %\n",
    "\n",
    "100 ro. 10 j. 20 re : 83,1 %\n",
    "\n",
    "100 ro. 20 j. 20 re : 63,95 %\n"
   ]
  },
  {
   "cell_type": "code",
   "execution_count": 14,
   "metadata": {},
   "outputs": [
    {
     "output_type": "stream",
     "name": "stdout",
     "text": "┌──────────────────────────────────────────────────┐\n│ Nb joueurs\\Nb restaurants │ 2    │ 10    │ 20    │\n│ ------------------------- │ ---- │ ----- │ ----- │\n│ 2                         │ \u001b[95m\u001b[1m74.5\u001b[0m │ \u001b[91m\u001b[1m94.5\u001b[0m  │ \u001b[91m\u001b[1m97.5\u001b[0m  │\n│ 10                        │ \u001b[1m20\u001b[0m   │ \u001b[95m\u001b[1m63.6\u001b[0m  │ \u001b[91m\u001b[1m83.1\u001b[0m  │\n│ 20                        │ \u001b[1m10\u001b[0m   │ \u001b[1m43.75\u001b[0m │ \u001b[95m\u001b[1m63.95\u001b[0m │\n└──────────────────────────────────────────────────┘\n"
    }
   ],
   "source": [
    "import myGraphs as mg\n",
    "\n",
    "colNames = ['Nb joueurs\\\\Nb restaurants','2','10','20']\n",
    "l1 = ['2', 74.5, 94.5, 97.5]\n",
    "l2 = ['10', 20, 63.6, 83.1]\n",
    "l3 = ['20', 10, 43.75, 63.95]\n",
    "mat = [colNames] + [l1, l2, l3]\n",
    "tableRandom = mg.tablify(mat, extended_ascii=True, gradient=[(50, [ mg.BOLD]), (75, [mg.MAGENTA, mg.BOLD]), (100, [mg.RED, mg.BOLD])])\n",
    "print(tableRandom)"
   ]
  },
  {
   "cell_type": "markdown",
   "metadata": {},
   "source": [
    "#### Têtu\n",
    "\n",
    "100 rounds. 2 joueurs. 2 restaurants : 100 %\n",
    "\n",
    "100 rounds. 10 joueurs. 2 restaurants : 20 %\n",
    "\n",
    "100 rounds. 20 j. 2 r : 10 %\n",
    "___\n",
    "50 ro. 2 j. 10 re : 100 %\n",
    "\n",
    "50 ro. 10 j. 10 re : 70 %\n",
    "\n",
    "50 ro. 20 j. 10 re : 50 %\n",
    "___\n",
    "50 ro. 2 j. 20 re : 100 %\n",
    "\n",
    "50 ro. 10 j. 20 re : 80 %\n",
    "\n",
    "50 ro. 20 j. 20 re : 70 %"
   ]
  },
  {
   "cell_type": "code",
   "execution_count": 15,
   "metadata": {},
   "outputs": [
    {
     "output_type": "stream",
     "name": "stdout",
     "text": "┌─────────────────────────────────────────────┐\n│ Nb joueurs\\Nb restaurants │ 2   │ 10  │ 20  │\n│ ------------------------- │ --- │ --- │ --- │\n│ 2                         │ \u001b[91m\u001b[1m100\u001b[0m │ \u001b[91m\u001b[1m100\u001b[0m │ \u001b[91m\u001b[1m100\u001b[0m │\n│ 10                        │ \u001b[1m20\u001b[0m  │ \u001b[95m\u001b[1m70\u001b[0m  │ \u001b[91m\u001b[1m80\u001b[0m  │\n│ 20                        │ \u001b[1m10\u001b[0m  │ \u001b[1m50\u001b[0m  │ \u001b[95m\u001b[1m70\u001b[0m  │\n└─────────────────────────────────────────────┘\n┌──────────────────────────────────────────────────┐\n│ Nb joueurs\\Nb restaurants │ 2    │ 10    │ 20    │\n│ ------------------------- │ ---- │ ----- │ ----- │\n│ 2                         │ \u001b[95m\u001b[1m74.5\u001b[0m │ \u001b[91m\u001b[1m94.5\u001b[0m  │ \u001b[91m\u001b[1m97.5\u001b[0m  │\n│ 10                        │ \u001b[1m20\u001b[0m   │ \u001b[95m\u001b[1m63.6\u001b[0m  │ \u001b[91m\u001b[1m83.1\u001b[0m  │\n│ 20                        │ \u001b[1m10\u001b[0m   │ \u001b[1m43.75\u001b[0m │ \u001b[95m\u001b[1m63.95\u001b[0m │\n└──────────────────────────────────────────────────┘\n"
    }
   ],
   "source": [
    "colNames = ['Nb joueurs\\\\Nb restaurants','2','10','20']\n",
    "l1 = ['2', 100, 100, 100]\n",
    "l2 = ['10', 20, 70, 80]\n",
    "l3 = ['20', 10, 50, 70]\n",
    "mat = [colNames] + [l1, l2, l3]\n",
    "table = mg.tablify(mat, extended_ascii=True, gradient=[(50, [mg.BOLD]), (75, [mg.MAGENTA, mg.BOLD]), (100, [mg.RED, mg.BOLD])])\n",
    "print(table)\n",
    "print(tableRandom)\n"
   ]
  },
  {
   "cell_type": "markdown",
   "metadata": {},
   "source": [
    "#### Mean Regression\n",
    "\n",
    "50 rounds. 2 joueurs. 2 restaurants : 51 %\n",
    "\n",
    "50 rounds. 10 joueurs. 2 restaurants : 10,2 %\n",
    "\n",
    "50 rounds. 20 j. 2 r : 5,1 %\n",
    "___\n",
    "50 ro. 2 j. 10 re :  %\n",
    "\n",
    "50 ro. 10 j. 10 re :  %\n",
    "\n",
    "50 ro. 20 j. 10 re :  %\n",
    "___\n",
    "50 ro. 2 j. 20 re :  %\n",
    "\n",
    "50 ro. 10 j. 20 re :  %\n",
    "\n",
    "50 ro. 20 j. 20 re :  %"
   ]
  },
  {
   "cell_type": "code",
   "execution_count": 16,
   "metadata": {},
   "outputs": [
    {
     "output_type": "stream",
     "name": "stdout",
     "text": "┌────────────────────────────────────────────┐\n│ Nb joueurs\\Nb restaurants │ 2    │ 10 │ 20 │\n│ ------------------------- │ ---- │ -- │ -- │\n│ 2                         │ \u001b[95m\u001b[1m51\u001b[0m   │ ?  │ ?  │\n│ 10                        │ \u001b[1m10.2\u001b[0m │ ?  │ ?  │\n│ 20                        │ \u001b[1m5.1\u001b[0m  │ ?  │ ?  │\n└────────────────────────────────────────────┘\n┌──────────────────────────────────────────────────┐\n│ Nb joueurs\\Nb restaurants │ 2    │ 10    │ 20    │\n│ ------------------------- │ ---- │ ----- │ ----- │\n│ 2                         │ \u001b[95m\u001b[1m74.5\u001b[0m │ \u001b[91m\u001b[1m94.5\u001b[0m  │ \u001b[91m\u001b[1m97.5\u001b[0m  │\n│ 10                        │ \u001b[1m20\u001b[0m   │ \u001b[95m\u001b[1m63.6\u001b[0m  │ \u001b[91m\u001b[1m83.1\u001b[0m  │\n│ 20                        │ \u001b[1m10\u001b[0m   │ \u001b[1m43.75\u001b[0m │ \u001b[95m\u001b[1m63.95\u001b[0m │\n└──────────────────────────────────────────────────┘\n"
    }
   ],
   "source": [
    "colNames = ['Nb joueurs\\\\Nb restaurants','2','10','20']\n",
    "l1 = ['2', 51, '?', '?']\n",
    "l2 = ['10', 10.2, '?', '?']\n",
    "l3 = ['20', 5.1, '?', '?']\n",
    "mat = [colNames] + [l1, l2, l3]\n",
    "table = mg.tablify(mat, extended_ascii=True, gradient=[(50, [mg.BOLD]), (75, [mg.MAGENTA, mg.BOLD]), (100, [mg.RED, mg.BOLD])])\n",
    "print(table)\n",
    "print(tableRandom)\n"
   ]
  },
  {
   "cell_type": "markdown",
   "metadata": {},
   "source": [
    "#### Wrong Stochastic Choice\n",
    "\n",
    "50 rounds. 2 joueurs. 2 restaurants : 74 %\n",
    "\n",
    "50 rounds. 10 joueurs. 2 restaurants : 17,8 %\n",
    "\n",
    "50 rounds. 20 j. 2 r : 10 %\n",
    "___\n",
    "50 ro. 2 j. 10 re : 80 %\n",
    "\n",
    "50 ro. 10 j. 10 re : 46,4 %\n",
    "\n",
    "50 ro. 20 j. 10 re : 35,2 %\n",
    "___\n",
    "50 ro. 2 j. 20 re : 81 %\n",
    "\n",
    "50 ro. 10 j. 20 re : 48 %\n",
    "\n",
    "50 ro. 20 j. 20 re : 35,9 %"
   ]
  },
  {
   "cell_type": "code",
   "execution_count": 17,
   "metadata": {},
   "outputs": [
    {
     "output_type": "stream",
     "name": "stdout",
     "text": "┌────────────────────────────────────────────────┐\n│ Nb joueurs\\Nb restaurants │ 2    │ 10   │ 20   │\n│ ------------------------- │ ---- │ ---- │ ---- │\n│ 2                         │ \u001b[95m\u001b[1m74\u001b[0m   │ \u001b[91m\u001b[1m80\u001b[0m   │ \u001b[91m\u001b[1m81\u001b[0m   │\n│ 10                        │ \u001b[1m17.8\u001b[0m │ \u001b[1m46.4\u001b[0m │ \u001b[1m48\u001b[0m   │\n│ 20                        │ \u001b[1m10\u001b[0m   │ \u001b[1m35.2\u001b[0m │ \u001b[1m35.9\u001b[0m │\n└────────────────────────────────────────────────┘\n┌──────────────────────────────────────────────────┐\n│ Nb joueurs\\Nb restaurants │ 2    │ 10    │ 20    │\n│ ------------------------- │ ---- │ ----- │ ----- │\n│ 2                         │ \u001b[95m\u001b[1m74.5\u001b[0m │ \u001b[91m\u001b[1m94.5\u001b[0m  │ \u001b[91m\u001b[1m97.5\u001b[0m  │\n│ 10                        │ \u001b[1m20\u001b[0m   │ \u001b[95m\u001b[1m63.6\u001b[0m  │ \u001b[91m\u001b[1m83.1\u001b[0m  │\n│ 20                        │ \u001b[1m10\u001b[0m   │ \u001b[1m43.75\u001b[0m │ \u001b[95m\u001b[1m63.95\u001b[0m │\n└──────────────────────────────────────────────────┘\n"
    }
   ],
   "source": [
    "colNames = ['Nb joueurs\\\\Nb restaurants','2','10','20']\n",
    "l1 = ['2', 74, 80, 81]\n",
    "l2 = ['10', 17.8, 46.4, 48]\n",
    "l3 = ['20', 10, 35.2, 35.9]\n",
    "mat = [colNames] + [l1, l2, l3]\n",
    "table = mg.tablify(mat, extended_ascii=True, gradient=[(50, [mg.BOLD]), (75, [mg.MAGENTA, mg.BOLD]), (100, [mg.RED, mg.BOLD])])\n",
    "print(table)\n",
    "print(tableRandom)\n"
   ]
  },
  {
   "cell_type": "markdown",
   "metadata": {},
   "source": [
    "#### Stochastic Choice\n",
    "\n",
    "50 rounds. 2 joueurs. 2 restaurants : 71 %\n",
    "\n",
    "50 rounds. 10 joueurs. 2 restaurants : 19,4 %\n",
    "\n",
    "50 rounds. 20 j. 2 r : 10 %\n",
    "___\n",
    "50 ro. 2 j. 10 re : 93 %\n",
    "\n",
    "50 ro. 10 j. 10 re : 67,4 %\n",
    "\n",
    "50 ro. 20 j. 10 re : 45,1 %\n",
    "___\n",
    "50 ro. 2 j. 20 re : 97 %\n",
    "\n",
    "50 ro. 10 j. 20 re : 79,8 %\n",
    "\n",
    "50 ro. 20 j. 20 re : 66,2 %"
   ]
  },
  {
   "cell_type": "code",
   "execution_count": 18,
   "metadata": {},
   "outputs": [
    {
     "output_type": "stream",
     "name": "stdout",
     "text": "┌────────────────────────────────────────────────┐\n│ Nb joueurs\\Nb restaurants │ 2    │ 10   │ 20   │\n│ ------------------------- │ ---- │ ---- │ ---- │\n│ 2                         │ \u001b[95m\u001b[1m71\u001b[0m   │ \u001b[91m\u001b[1m93\u001b[0m   │ \u001b[91m\u001b[1m97\u001b[0m   │\n│ 10                        │ \u001b[1m19.4\u001b[0m │ \u001b[95m\u001b[1m67.4\u001b[0m │ \u001b[91m\u001b[1m79.8\u001b[0m │\n│ 20                        │ \u001b[1m10\u001b[0m   │ \u001b[1m45.1\u001b[0m │ \u001b[95m\u001b[1m66.2\u001b[0m │\n└────────────────────────────────────────────────┘\n┌──────────────────────────────────────────────────┐\n│ Nb joueurs\\Nb restaurants │ 2    │ 10    │ 20    │\n│ ------------------------- │ ---- │ ----- │ ----- │\n│ 2                         │ \u001b[95m\u001b[1m74.5\u001b[0m │ \u001b[91m\u001b[1m94.5\u001b[0m  │ \u001b[91m\u001b[1m97.5\u001b[0m  │\n│ 10                        │ \u001b[1m20\u001b[0m   │ \u001b[95m\u001b[1m63.6\u001b[0m  │ \u001b[91m\u001b[1m83.1\u001b[0m  │\n│ 20                        │ \u001b[1m10\u001b[0m   │ \u001b[1m43.75\u001b[0m │ \u001b[95m\u001b[1m63.95\u001b[0m │\n└──────────────────────────────────────────────────┘\n"
    }
   ],
   "source": [
    "colNames = ['Nb joueurs\\\\Nb restaurants','2','10','20']\n",
    "l1 = ['2', 71, 93, 97]\n",
    "l2 = ['10', 19.4, 67.4, 79.8]\n",
    "l3 = ['20', 10, 45.1, 66.2]\n",
    "mat = [colNames] + [l1, l2, l3]\n",
    "table = mg.tablify(mat, extended_ascii=True, gradient=[(50, [mg.BOLD]), (75, [mg.MAGENTA, mg.BOLD]), (100, [mg.RED, mg.BOLD])])\n",
    "print(table)\n",
    "print(tableRandom)\n"
   ]
  },
  {
   "cell_type": "markdown",
   "metadata": {},
   "source": [
    "### Seul contre l'aléa\n",
    "\n",
    "#### Aléatoire\n",
    "\n",
    "100 rounds. 20 joueurs.\n",
    "\n",
    "2 restaurants\n",
    " : 5 % de réussite\n",
    "\n",
    "10 restaurants\n",
    " : 42 %\n",
    "\n",
    "20 restaurants\n",
    " : 63 %"
   ]
  },
  {
   "cell_type": "markdown",
   "metadata": {},
   "source": [
    "#### Têtu\n",
    "\n",
    "100 rounds. 20 joueurs.\n",
    "\n",
    "2 restaurants\n",
    " : 7,0 % de réussite contre 10,16 % pour Random.\n",
    "\n",
    "10 restaurants\n",
    " : 35,0 % contre 43,89 % pour Random.\n",
    "\n",
    "20 restaurants\n",
    " : 58,0 % contre 64,68 % pour Random."
   ]
  },
  {
   "cell_type": "markdown",
   "metadata": {},
   "source": [
    "#### MeanRegression\n",
    "\n",
    "100 rounds. 20 joueurs.\n",
    "\n",
    "2 restaurants\n",
    " : 12 % de réussite contre 9,89 % pour Random.\n",
    "\n",
    "10 restaurants\n",
    " : 45 % contre 43,95 % pour Random.\n",
    "\n",
    "20 restaurants\n",
    " : 62 % contre 62,89 % pour Random."
   ]
  },
  {
   "cell_type": "markdown",
   "metadata": {},
   "source": [
    "#### Wrong Stochastic Choice\n",
    "\n",
    "100 rounds. 20 joueurs.\n",
    "\n",
    "2 restaurants\n",
    " : 9 % de réussite contre 10.05 % pour Random.\n",
    "\n",
    "10 restaurants\n",
    " : 43 % contre 44,26 % pour Random.\n",
    "\n",
    "20 restaurants\n",
    " : 56 % contre 64,37 % pour Random."
   ]
  },
  {
   "cell_type": "markdown",
   "metadata": {},
   "source": [
    "#### Stochastic Choice\n",
    "\n",
    "100 rounds. 20 joueurs.\n",
    "\n",
    "2 restaurants\n",
    " : 12 % contre 9,89 % pour Random.\n",
    "\n",
    "10 restaurants\n",
    " : 42 % contre 43,32 % pour Random.\n",
    "\n",
    "20 restaurants\n",
    " : 62 % contre 63,74 % pour Random."
   ]
  },
  {
   "cell_type": "code",
   "execution_count": 22,
   "metadata": {},
   "outputs": [
    {
     "output_type": "stream",
     "name": "stdout",
     "text": "┌─────────────────────────────────────────────────────────────────────────────┐\n│ Nb restaurants │ Random │ Têtu │ MeanRegression │ W.Stochastic │ Stochastic │\n│ -------------- │ ------ │ ---- │ -------------- │ ------------ │ ---------- │\n│ 2              │ \u001b[1m5\u001b[0m      │ \u001b[1m7\u001b[0m    │ \u001b[1m12\u001b[0m             │ \u001b[1m9\u001b[0m            │ \u001b[1m12\u001b[0m         │\n│ 10             │ \u001b[95m\u001b[1m42\u001b[0m     │ \u001b[95m\u001b[1m35\u001b[0m   │ \u001b[95m\u001b[1m45\u001b[0m             │ \u001b[95m\u001b[1m43\u001b[0m           │ \u001b[95m\u001b[1m42\u001b[0m         │\n│ 20             │ \u001b[91m\u001b[1m63\u001b[0m     │ \u001b[91m\u001b[1m58\u001b[0m   │ \u001b[91m\u001b[1m62\u001b[0m             │ \u001b[91m\u001b[1m56\u001b[0m           │ \u001b[91m\u001b[1m62\u001b[0m         │\n└─────────────────────────────────────────────────────────────────────────────┘\n"
    }
   ],
   "source": [
    "colNames = ['Nb restaurants','Random', 'Têtu', 'MeanRegression', 'W.Stochastic', 'Stochastic']\n",
    "l1 = ['2',  5,  7,  12, 9,  12]\n",
    "l2 = ['10', 42, 35, 45, 43, 42]\n",
    "l3 = ['20', 63, 58, 62, 56, 62]\n",
    "mat = [colNames] + [l1, l2, l3]\n",
    "table = mg.tablify(mat, extended_ascii=True, gradient=[(20, [mg.BOLD]), (50, [mg.MAGENTA, mg.BOLD]), (100, [mg.RED, mg.BOLD])])\n",
    "print(table)"
   ]
  },
  {
   "cell_type": "code",
   "execution_count": null,
   "metadata": {},
   "outputs": [],
   "source": []
  }
 ],
 "metadata": {
  "anaconda-cloud": {},
  "kernelspec": {
   "display_name": "Python 3",
   "language": "python",
   "name": "python3"
  },
  "language_info": {
   "codemirror_mode": {
    "name": "ipython",
    "version": 3
   },
   "file_extension": ".py",
   "mimetype": "text/x-python",
   "name": "python",
   "nbconvert_exporter": "python",
   "pygments_lexer": "ipython3",
   "version": "3.8.2-final"
  }
 },
 "nbformat": 4,
 "nbformat_minor": 2
}
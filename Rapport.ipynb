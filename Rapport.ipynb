{
 "cells": [
  {
   "cell_type": "markdown",
   "metadata": {},
   "source": [
    "# Rapport : Projet Kolkata\n",
    "_Bruce Rose_\n",
    "\n",
    "Ce rapport rend compte de ma réalisation du projet Kolkata.\n",
    "\n"
   ]
  },
  {
   "cell_type": "markdown",
   "metadata": {},
   "source": [
    "## Utilisation\n",
    "\n",
    "Pour faciliter l'utilisation de mon implémentation du projet, un fichier `Entrance.py` a été écrit.\n",
    "Lancez\n",
    "\n",
    "> `python Entrance.py`\n",
    "\n",
    "dans un terminal (version utilisée de python : 3.8.2) et laissez-vous guider.\n",
    "\n",
    "Il vous sera alors possible de personnaliser une partie de Kolkata :\n",
    "* Nombre d'itérations *m*\n",
    "* Vitesse de jeu\n",
    "* Chargement d'une carte spécifique\n",
    "* Nombre de joueurs *n*\n",
    "* Nombre de restaurants (ou tables) *k*\n",
    "* Jeu par équipe\n",
    "* Nombre d'équipes\n",
    "* Nombre de joueurs personnalisable par équipe\n",
    "* Stratégie par équipe"
   ]
  },
  {
   "cell_type": "markdown",
   "metadata": {},
   "source": [
    "## Stratégies\n",
    "\n",
    "En plus des stratégies de base *aléatoire* et *tétue*, d'autres stratégies ont été imaginées. Elles sont toutes trouvables dans le fichier `Strategy.py`."
   ]
  },
  {
   "cell_type": "markdown",
   "metadata": {},
   "source": [
    "### Mean regression : retour à la normale\n",
    "\n",
    "Cette stratégie se base sur le principe de retour à la normale. Si un restaurant est très fréquenté (plus que la moyenne) pour *i* itérations de suite, il y a plus de chance pour qu'il soit bien moins fréquenté l'itération suivante *i+1*, d'autant plus que *i* est grand. Cette stratégie fait l'hypothèse que les taux de fréquentation des restaurants sont répartis aléatoirement, ou équivalent* (ce qui n'est pas toujours le cas). On choisit donc toujours le restaurant dont la suite de haute fréquentation est la plus grande.\n",
    "\n",
    "*Nous verrons que la stratégie fonctionne bien contre des stratégies non-aléatoires."
   ]
  },
  {
   "cell_type": "markdown",
   "metadata": {},
   "source": [
    "### Wrong Stochastic Choice : le mal-entendu\n",
    "\n",
    "Cette stratégie découle de l'interpretation erronée de l'explication suivante :\n",
    "\n",
    "> (1)   \"*A leading stochastic strategy, with utilization ~0.79, gives each customer a probability p of choosing the same restaurant as yesterday (p varying inversely with the number of players who chose that restaurant yesterday), while choosing among other restaurants with uniform probability. This is a better result than deterministic algorithms or simple random choice (noise trader), with utilization fraction 1 - 1/e ≈ 0.63.*\"\n",
    "\n",
    "extraite de la page wikipédia anglophone du *El Farol Bar Problem* (consultée le 05/05/2020, 16:54).\n",
    "\n",
    "Pour faire son choix, cette stratégie passe en revue chaque restaurant, et calcule sa probabilité de sélection *p* comme suit :\n",
    "\n",
    "> *p* = 1/(*c* + 1)\n",
    "\n",
    "Où *c* est le nombre de clients qui sont allés à ce restaurant au dernier tour. Ainsi, moins il y avait de clients à un restaurant le tour d'avant, le plus de chance ce restaurant a d'être choisi par cette stratégie."
   ]
  },
  {
   "cell_type": "markdown",
   "metadata": {},
   "source": [
    "### Stochastic Choice\n",
    "\n",
    "Cette stratégie implémente la citation (1) plus haute. Il s'agit de calculer une probabilité *p* de changer de restaurant d'après cette formule :\n",
    "\n",
    "> *p* = 1/(*c* + 1)\n",
    "\n",
    "où *c* est le nombre de clients qui ont fréquenté le dernier restaurant choisi au dernier tour. Dans le cas où on décide de changer de restaurant, notre choix se fait aléatoirement parmi tous les autres restaurants.\n",
    "\n"
   ]
  },
  {
   "cell_type": "markdown",
   "metadata": {},
   "source": [
    "## Expérimentations"
   ]
  },
  {
   "cell_type": "markdown",
   "metadata": {},
   "source": [
    "### Tous les mêmes\n",
    "\n",
    "Dans cette section nous observons l'efficacité des stratégies lorsque tous les joueurs ce comportent de manière identique."
   ]
  },
  {
   "cell_type": "markdown",
   "metadata": {},
   "source": [
    "#### Random\n"
   ]
  },
  {
   "cell_type": "code",
   "execution_count": 1,
   "metadata": {},
   "outputs": [
    {
     "output_type": "stream",
     "name": "stdout",
     "text": "┌──────────────────────────────────────────────────┐\n│ Nb joueurs\\Nb restaurants │ 2    │ 10    │ 20    │\n│ ------------------------- │ ---- │ ----- │ ----- │\n│ 2                         │ \u001b[95m\u001b[1m74.5\u001b[0m │ \u001b[91m\u001b[1m94.5\u001b[0m  │ \u001b[91m\u001b[1m97.5\u001b[0m  │\n│ 10                        │ \u001b[1m20\u001b[0m   │ \u001b[95m\u001b[1m63.6\u001b[0m  │ \u001b[91m\u001b[1m83.1\u001b[0m  │\n│ 20                        │ \u001b[1m10\u001b[0m   │ \u001b[1m43.75\u001b[0m │ \u001b[95m\u001b[1m63.95\u001b[0m │\n└──────────────────────────────────────────────────┘\n"
    }
   ],
   "source": [
    "import myGraphs as mg\n",
    "extended_ascii = True\n",
    "colors = True\n",
    "mg.printData(\"1_random\", _extended_ascii=extended_ascii, _colors=colors)"
   ]
  },
  {
   "cell_type": "markdown",
   "metadata": {},
   "source": [
    "#### Têtu"
   ]
  },
  {
   "cell_type": "code",
   "execution_count": 2,
   "metadata": {},
   "outputs": [
    {
     "output_type": "stream",
     "name": "stdout",
     "text": "┌─────────────────────────────────────────────┐\n│ Nb joueurs\\Nb restaurants │ 2   │ 10  │ 20  │\n│ ------------------------- │ --- │ --- │ --- │\n│ 2                         │ \u001b[91m\u001b[1m100\u001b[0m │ \u001b[91m\u001b[1m100\u001b[0m │ \u001b[91m\u001b[1m100\u001b[0m │\n│ 10                        │ \u001b[1m20\u001b[0m  │ \u001b[95m\u001b[1m70\u001b[0m  │ \u001b[91m\u001b[1m80\u001b[0m  │\n│ 20                        │ \u001b[1m10\u001b[0m  │ \u001b[1m50\u001b[0m  │ \u001b[95m\u001b[1m70\u001b[0m  │\n└─────────────────────────────────────────────┘\n┌──────────────────────────────────────────────────┐\n│ Nb joueurs\\Nb restaurants │ 2    │ 10    │ 20    │\n│ ------------------------- │ ---- │ ----- │ ----- │\n│ 2                         │ \u001b[95m\u001b[1m74.5\u001b[0m │ \u001b[91m\u001b[1m94.5\u001b[0m  │ \u001b[91m\u001b[1m97.5\u001b[0m  │\n│ 10                        │ \u001b[1m20\u001b[0m   │ \u001b[95m\u001b[1m63.6\u001b[0m  │ \u001b[91m\u001b[1m83.1\u001b[0m  │\n│ 20                        │ \u001b[1m10\u001b[0m   │ \u001b[1m43.75\u001b[0m │ \u001b[95m\u001b[1m63.95\u001b[0m │\n└──────────────────────────────────────────────────┘\n"
    }
   ],
   "source": [
    "mg.printData(\"1_tetu\", _extended_ascii=extended_ascii, _colors=colors)\n",
    "mg.printData(\"1_random\", _extended_ascii=extended_ascii, _colors=colors)\n"
   ]
  },
  {
   "cell_type": "markdown",
   "metadata": {},
   "source": [
    "#### Mean Regression\n"
   ]
  },
  {
   "cell_type": "code",
   "execution_count": 3,
   "metadata": {},
   "outputs": [
    {
     "output_type": "stream",
     "name": "stdout",
     "text": "┌────────────────────────────────────────────────┐\n│ Nb joueurs\\Nb restaurants │ 2    │ 10   │ 20   │\n│ ------------------------- │ ---- │ ---- │ ---- │\n│ 2                         │ \u001b[95m\u001b[1m51\u001b[0m   │ \u001b[95m\u001b[1m51\u001b[0m   │ \u001b[95m\u001b[1m51\u001b[0m   │\n│ 10                        │ \u001b[1m10.2\u001b[0m │ \u001b[1m10.8\u001b[0m │ \u001b[1m11.2\u001b[0m │\n│ 20                        │ \u001b[1m5.1\u001b[0m  │ \u001b[1m5.8\u001b[0m  │ \u001b[1m6.2\u001b[0m  │\n└────────────────────────────────────────────────┘\n┌──────────────────────────────────────────────────┐\n│ Nb joueurs\\Nb restaurants │ 2    │ 10    │ 20    │\n│ ------------------------- │ ---- │ ----- │ ----- │\n│ 2                         │ \u001b[95m\u001b[1m74.5\u001b[0m │ \u001b[91m\u001b[1m94.5\u001b[0m  │ \u001b[91m\u001b[1m97.5\u001b[0m  │\n│ 10                        │ \u001b[1m20\u001b[0m   │ \u001b[95m\u001b[1m63.6\u001b[0m  │ \u001b[91m\u001b[1m83.1\u001b[0m  │\n│ 20                        │ \u001b[1m10\u001b[0m   │ \u001b[1m43.75\u001b[0m │ \u001b[95m\u001b[1m63.95\u001b[0m │\n└──────────────────────────────────────────────────┘\n"
    }
   ],
   "source": [
    "mg.printData(\"1_mere\", _extended_ascii=extended_ascii, _colors=colors)\n",
    "mg.printData(\"1_random\", _extended_ascii=extended_ascii, _colors=colors)\n"
   ]
  },
  {
   "cell_type": "markdown",
   "metadata": {},
   "source": [
    "#### Wrong Stochastic Choice"
   ]
  },
  {
   "cell_type": "code",
   "execution_count": 4,
   "metadata": {},
   "outputs": [
    {
     "output_type": "stream",
     "name": "stdout",
     "text": "┌────────────────────────────────────────────────┐\n│ Nb joueurs\\Nb restaurants │ 2    │ 10   │ 20   │\n│ ------------------------- │ ---- │ ---- │ ---- │\n│ 2                         │ \u001b[95m\u001b[1m74\u001b[0m   │ \u001b[91m\u001b[1m80\u001b[0m   │ \u001b[91m\u001b[1m81\u001b[0m   │\n│ 10                        │ \u001b[1m17.8\u001b[0m │ \u001b[1m46.4\u001b[0m │ \u001b[1m48\u001b[0m   │\n│ 20                        │ \u001b[1m10\u001b[0m   │ \u001b[1m35.2\u001b[0m │ \u001b[1m35.9\u001b[0m │\n└────────────────────────────────────────────────┘\n┌──────────────────────────────────────────────────┐\n│ Nb joueurs\\Nb restaurants │ 2    │ 10    │ 20    │\n│ ------------------------- │ ---- │ ----- │ ----- │\n│ 2                         │ \u001b[95m\u001b[1m74.5\u001b[0m │ \u001b[91m\u001b[1m94.5\u001b[0m  │ \u001b[91m\u001b[1m97.5\u001b[0m  │\n│ 10                        │ \u001b[1m20\u001b[0m   │ \u001b[95m\u001b[1m63.6\u001b[0m  │ \u001b[91m\u001b[1m83.1\u001b[0m  │\n│ 20                        │ \u001b[1m10\u001b[0m   │ \u001b[1m43.75\u001b[0m │ \u001b[95m\u001b[1m63.95\u001b[0m │\n└──────────────────────────────────────────────────┘\n"
    }
   ],
   "source": [
    "mg.printData(\"1_wrostocho\", _extended_ascii=extended_ascii, _colors=colors)\n",
    "mg.printData(\"1_random\", _extended_ascii=extended_ascii, _colors=colors)\n"
   ]
  },
  {
   "cell_type": "markdown",
   "metadata": {},
   "source": [
    "#### Stochastic Choice"
   ]
  },
  {
   "cell_type": "code",
   "execution_count": 5,
   "metadata": {},
   "outputs": [
    {
     "output_type": "stream",
     "name": "stdout",
     "text": "┌────────────────────────────────────────────────┐\n│ Nb joueurs\\Nb restaurants │ 2    │ 10   │ 20   │\n│ ------------------------- │ ---- │ ---- │ ---- │\n│ 2                         │ \u001b[95m\u001b[1m71\u001b[0m   │ \u001b[91m\u001b[1m93\u001b[0m   │ \u001b[91m\u001b[1m97\u001b[0m   │\n│ 10                        │ \u001b[1m19.4\u001b[0m │ \u001b[95m\u001b[1m67.4\u001b[0m │ \u001b[91m\u001b[1m79.8\u001b[0m │\n│ 20                        │ \u001b[1m10\u001b[0m   │ \u001b[1m45.1\u001b[0m │ \u001b[95m\u001b[1m66.2\u001b[0m │\n└────────────────────────────────────────────────┘\n┌──────────────────────────────────────────────────┐\n│ Nb joueurs\\Nb restaurants │ 2    │ 10    │ 20    │\n│ ------------------------- │ ---- │ ----- │ ----- │\n│ 2                         │ \u001b[95m\u001b[1m74.5\u001b[0m │ \u001b[91m\u001b[1m94.5\u001b[0m  │ \u001b[91m\u001b[1m97.5\u001b[0m  │\n│ 10                        │ \u001b[1m20\u001b[0m   │ \u001b[95m\u001b[1m63.6\u001b[0m  │ \u001b[91m\u001b[1m83.1\u001b[0m  │\n│ 20                        │ \u001b[1m10\u001b[0m   │ \u001b[1m43.75\u001b[0m │ \u001b[95m\u001b[1m63.95\u001b[0m │\n└──────────────────────────────────────────────────┘\n"
    }
   ],
   "source": [
    "mg.printData(\"1_stocho\", _extended_ascii=extended_ascii, _colors=colors)\n",
    "mg.printData(\"1_random\", _extended_ascii=extended_ascii, _colors=colors)\n"
   ]
  },
  {
   "cell_type": "markdown",
   "metadata": {},
   "source": [
    "### Seul contre l'aléa"
   ]
  },
  {
   "cell_type": "code",
   "execution_count": 7,
   "metadata": {},
   "outputs": [
    {
     "output_type": "stream",
     "name": "stdout",
     "text": "┌─────────────────────────────────────────────────────────────────────────────┐\n│ Nb restaurants │ Random │ Têtu │ MeanRegression │ W.Stochastic │ Stochastic │\n│ -------------- │ ------ │ ---- │ -------------- │ ------------ │ ---------- │\n│ 2              │ \u001b[1m5\u001b[0m      │ \u001b[1m7\u001b[0m    │ \u001b[1m12\u001b[0m             │ \u001b[1m9\u001b[0m            │ \u001b[1m12\u001b[0m         │\n│ 10             │ \u001b[95m\u001b[1m42\u001b[0m     │ \u001b[95m\u001b[1m35\u001b[0m   │ \u001b[95m\u001b[1m45\u001b[0m             │ \u001b[95m\u001b[1m43\u001b[0m           │ \u001b[95m\u001b[1m42\u001b[0m         │\n│ 20             │ \u001b[91m\u001b[1m63\u001b[0m     │ \u001b[91m\u001b[1m58\u001b[0m   │ \u001b[91m\u001b[1m62\u001b[0m             │ \u001b[91m\u001b[1m56\u001b[0m           │ \u001b[91m\u001b[1m62\u001b[0m         │\n└─────────────────────────────────────────────────────────────────────────────┘\n"
    }
   ],
   "source": [
    "mg.printData('all_vs_alea', _extended_ascii=extended_ascii, _colors=colors)"
   ]
  },
  {
   "cell_type": "code",
   "execution_count": null,
   "metadata": {},
   "outputs": [],
   "source": []
  }
 ],
 "metadata": {
  "anaconda-cloud": {},
  "kernelspec": {
   "display_name": "Python 3",
   "language": "python",
   "name": "python3"
  },
  "language_info": {
   "codemirror_mode": {
    "name": "ipython",
    "version": 3
   },
   "file_extension": ".py",
   "mimetype": "text/x-python",
   "name": "python",
   "nbconvert_exporter": "python",
   "pygments_lexer": "ipython3",
   "version": "3.8.2-final"
  }
 },
 "nbformat": 4,
 "nbformat_minor": 2
}